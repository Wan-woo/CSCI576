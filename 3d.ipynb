{
 "cells": [
  {
   "cell_type": "code",
   "execution_count": 1,
   "metadata": {},
   "outputs": [
    {
     "ename": "ImportError",
     "evalue": "dlopen(/opt/homebrew/lib/python3.10/site-packages/open3d/cpu/pybind.cpython-310-darwin.so, 0x0002): Library not loaded: /opt/homebrew/opt/libomp/lib/libomp.dylib\n  Referenced from: <8B3BC318-37F0-3B35-908C-7BD3DA24AFA2> /opt/homebrew/lib/python3.10/site-packages/open3d/cpu/pybind.cpython-310-darwin.so\n  Reason: tried: '/opt/homebrew/opt/libomp/lib/libomp.dylib' (no such file), '/System/Volumes/Preboot/Cryptexes/OS/opt/homebrew/opt/libomp/lib/libomp.dylib' (no such file), '/opt/homebrew/opt/libomp/lib/libomp.dylib' (no such file), '/usr/local/lib/libomp.dylib' (no such file), '/usr/lib/libomp.dylib' (no such file, not in dyld cache)",
     "output_type": "error",
     "traceback": [
      "\u001b[0;31m---------------------------------------------------------------------------\u001b[0m",
      "\u001b[0;31mImportError\u001b[0m                               Traceback (most recent call last)",
      "Cell \u001b[0;32mIn [1], line 4\u001b[0m\n\u001b[1;32m      2\u001b[0m \u001b[39mimport\u001b[39;00m \u001b[39mcv2\u001b[39;00m\n\u001b[1;32m      3\u001b[0m \u001b[39mimport\u001b[39;00m \u001b[39mnumpy\u001b[39;00m \u001b[39mas\u001b[39;00m \u001b[39mnp\u001b[39;00m\n\u001b[0;32m----> 4\u001b[0m \u001b[39mimport\u001b[39;00m \u001b[39mopen3d\u001b[39;00m \u001b[39mas\u001b[39;00m \u001b[39mo3d\u001b[39;00m\n\u001b[1;32m      6\u001b[0m \u001b[39m# Load the video and select the first frame as the reference frame\u001b[39;00m\n\u001b[1;32m      7\u001b[0m video \u001b[39m=\u001b[39m cv2\u001b[39m.\u001b[39mVideoCapture(\u001b[39m\"\u001b[39m\u001b[39mvideo1.mp4\u001b[39m\u001b[39m\"\u001b[39m)\n",
      "File \u001b[0;32m/opt/homebrew/lib/python3.10/site-packages/open3d/__init__.py:97\u001b[0m\n\u001b[1;32m     91\u001b[0m         warnings\u001b[39m.\u001b[39mwarn(\n\u001b[1;32m     92\u001b[0m             \u001b[39m\"\u001b[39m\u001b[39mOpen3D was built with CUDA support, but Open3D CUDA Python \u001b[39m\u001b[39m\"\u001b[39m\n\u001b[1;32m     93\u001b[0m             \u001b[39m\"\u001b[39m\u001b[39mbinding library not found! Falling back to the CPU Python \u001b[39m\u001b[39m\"\u001b[39m\n\u001b[1;32m     94\u001b[0m             \u001b[39m\"\u001b[39m\u001b[39mbinding library.\u001b[39m\u001b[39m\"\u001b[39m, \u001b[39mImportWarning\u001b[39;00m)\n\u001b[1;32m     96\u001b[0m \u001b[39mif\u001b[39;00m __DEVICE_API__ \u001b[39m==\u001b[39m \u001b[39m'\u001b[39m\u001b[39mcpu\u001b[39m\u001b[39m'\u001b[39m:\n\u001b[0;32m---> 97\u001b[0m     \u001b[39mfrom\u001b[39;00m \u001b[39mopen3d\u001b[39;00m\u001b[39m.\u001b[39;00m\u001b[39mcpu\u001b[39;00m\u001b[39m.\u001b[39;00m\u001b[39mpybind\u001b[39;00m \u001b[39mimport\u001b[39;00m (camera, data, geometry, io, pipelines,\n\u001b[1;32m     98\u001b[0m                                    utility, t)\n\u001b[1;32m     99\u001b[0m     \u001b[39mfrom\u001b[39;00m \u001b[39mopen3d\u001b[39;00m\u001b[39m.\u001b[39;00m\u001b[39mcpu\u001b[39;00m \u001b[39mimport\u001b[39;00m pybind\n\u001b[1;32m    101\u001b[0m \u001b[39mimport\u001b[39;00m \u001b[39mopen3d\u001b[39;00m\u001b[39m.\u001b[39;00m\u001b[39mcore\u001b[39;00m\n",
      "\u001b[0;31mImportError\u001b[0m: dlopen(/opt/homebrew/lib/python3.10/site-packages/open3d/cpu/pybind.cpython-310-darwin.so, 0x0002): Library not loaded: /opt/homebrew/opt/libomp/lib/libomp.dylib\n  Referenced from: <8B3BC318-37F0-3B35-908C-7BD3DA24AFA2> /opt/homebrew/lib/python3.10/site-packages/open3d/cpu/pybind.cpython-310-darwin.so\n  Reason: tried: '/opt/homebrew/opt/libomp/lib/libomp.dylib' (no such file), '/System/Volumes/Preboot/Cryptexes/OS/opt/homebrew/opt/libomp/lib/libomp.dylib' (no such file), '/opt/homebrew/opt/libomp/lib/libomp.dylib' (no such file), '/usr/local/lib/libomp.dylib' (no such file), '/usr/lib/libomp.dylib' (no such file, not in dyld cache)"
     ]
    }
   ],
   "source": [
    "# Import necessary libraries\n",
    "import cv2\n",
    "import numpy as np\n",
    "import open3d as o3d\n",
    "\n",
    "# Load the video and select the first frame as the reference frame\n",
    "video = cv2.VideoCapture(\"video1.mp4\")\n",
    "_, reference_frame = video.read()\n",
    "\n",
    "# Convert the reference frame to grayscale\n",
    "reference_frame_gray = cv2.cvtColor(reference_frame, cv2.COLOR_BGR2GRAY)\n",
    "\n",
    "# Use SIFT to detect keypoints and compute descriptors in the reference frame\n",
    "sift = cv2.xfeatures2d.SIFT_create()\n",
    "reference_keypoints, reference_descriptors = sift.detectAndCompute(reference_frame_gray, None)\n",
    "\n",
    "# Create an Open3D point cloud with the reference frame keypoints as the points\n",
    "reference_point_cloud = o3d.geometry.PointCloud()\n",
    "reference_point_cloud.points = o3d.utility.Vector3dVector(reference_keypoints)\n",
    "\n",
    "# Loop over the frames of the video\n",
    "while True:\n",
    "    # Read the next frame from the video\n",
    "    _, frame = video.read()\n",
    "\n",
    "    # If the frame was not read successfully, break out of the loop\n",
    "    if frame is None:\n",
    "        break\n",
    "\n",
    "    # Convert the frame to grayscale\n",
    "    frame_gray = cv2.cvtColor(frame, cv2.COLOR_BGR2GRAY)\n",
    "\n",
    "    # Use SIFT to detect keypoints and compute descriptors in the current frame\n",
    "    frame_keypoints, frame_descriptors = sift.detectAndCompute(frame_gray, None)\n",
    "\n",
    "    # Use FLANN to match the descriptors in the reference and current frames\n",
    "    matcher = cv2.FlannBasedMatcher()\n",
    "    matches = matcher.match(reference_descriptors, frame_descriptors)\n",
    "\n",
    "    # Extract the coordinates of the matched keypoints\n",
    "    reference_points = np.array([reference_keypoints[m.queryIdx].pt for m in matches])\n",
    "    frame_points = np.array([frame_keypoints[m.trainIdx].pt for m in matches])\n",
    "\n",
    "    # Use the RANSAC algorithm to estimate the essential matrix between the two frames\n",
    "    _, mask = cv2.findEssentialMat(reference_points, frame_points)\n",
    "\n",
    "    # Use the essential matrix to recover the relative pose of the"
   ]
  }
 ],
 "metadata": {
  "kernelspec": {
   "display_name": "Python 3.10.7 64-bit",
   "language": "python",
   "name": "python3"
  },
  "language_info": {
   "codemirror_mode": {
    "name": "ipython",
    "version": 3
   },
   "file_extension": ".py",
   "mimetype": "text/x-python",
   "name": "python",
   "nbconvert_exporter": "python",
   "pygments_lexer": "ipython3",
   "version": "3.10.7"
  },
  "orig_nbformat": 4,
  "vscode": {
   "interpreter": {
    "hash": "b0fa6594d8f4cbf19f97940f81e996739fb7646882a419484c72d19e05852a7e"
   }
  }
 },
 "nbformat": 4,
 "nbformat_minor": 2
}
