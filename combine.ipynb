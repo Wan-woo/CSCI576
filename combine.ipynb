{
 "cells": [
  {
   "cell_type": "code",
   "execution_count": 6,
   "metadata": {},
   "outputs": [],
   "source": [
    "import cv2, os\n",
    "\n",
    "fourcc = cv2.VideoWriter_fourcc(*'mp4v')\n",
    "videoWriter = cv2.VideoWriter(\"background_without_foreground.mp4\", fourcc, 30, (1920,1080))\n",
    "path = \"output/\"\n",
    "# read files\n",
    "files = os.listdir(path)\n",
    "N = len(files)\n",
    "for i in range(N):\n",
    "    videoWriter.write(cv2.imread(path+\"/\"+\"frame_\"+str(i+1)+\".jpg\"))\n",
    "videoWriter.release()"
   ]
  },
  {
   "cell_type": "code",
   "execution_count": 40,
   "metadata": {},
   "outputs": [
    {
     "data": {
      "text/plain": [
       "True"
      ]
     },
     "execution_count": 40,
     "metadata": {},
     "output_type": "execute_result"
    }
   ],
   "source": [
    "import cv2\n",
    "import numpy as np\n",
    "\n",
    "imageA = cv2.imread(\"Stitched_Panorama.png\")\n",
    "imageB = cv2.imread(\"result_test3.png\")\n",
    "\n",
    "imageB = cv2.resize(imageB,None,fx=0.5, fy=0.5, interpolation = cv2.INTER_CUBIC)\n",
    "\n",
    "offsetX = 20\n",
    "rightCut = 100\n",
    "offsetY  = 115\n",
    "\n",
    "dst = np.zeros((max(imageA.shape[0], imageB.shape[0])+offsetY, imageA.shape[1]+imageB.shape[1], 3))\n",
    "\n",
    "\n",
    "\n",
    "\n",
    "\n",
    "dst[0:imageA.shape[0],0:imageA.shape[1]] = imageA\n",
    "dst[offsetY:imageB.shape[0]+offsetY, imageA.shape[1]-offsetX:imageA.shape[1]+imageB.shape[1]-offsetX-rightCut] = imageB[0:imageB.shape[0], rightCut:imageB.shape[1]]\n",
    "\n",
    "cv2.imwrite(\"combine.jpg\", dst)\n",
    "\n",
    "\n"
   ]
  },
  {
   "cell_type": "code",
   "execution_count": 3,
   "metadata": {},
   "outputs": [
    {
     "name": "stdout",
     "output_type": "stream",
     "text": [
      "595\n",
      "[1263  504  116  425]\n",
      "[1263  504  116  425]\n"
     ]
    }
   ],
   "source": [
    "import cv2\n",
    "import numpy as np\n",
    "\n",
    "rects = np.load(\"rects_test3.npy\")\n",
    "combine_image = cv2.imread(\"result_test3.png\")\n",
    "image6 = cv2.imread(\"test3_origin/5.jpg\")\n",
    "image100 = cv2.imread(\"test3_origin/99.jpg\")\n",
    "\n",
    "fourcc = cv2.VideoWriter_fourcc(*'mp4v')\n",
    "videoWriter = cv2.VideoWriter(\"shift_video.mp4\", fourcc, 30, (3840,1080))\n",
    "\n",
    "print(len(rects))\n",
    "# index+1 -> frame\n",
    "print(rects[5]) # 第一帧\n",
    "(x, y, w, h) = rects[0]\n",
    "print(rects[5])\n",
    "# [x, y, w, h]  x => image[y, x] 起始坐标 image[y+h, x+w] 最大点\n",
    "# [y, x] [y, x+w] [y+h, x] [y+h, x+w] \n",
    "#cv2.imshow(\"foreground\", image[y:y+h, x:x+w])\n",
    "#cv2.waitKey()\n",
    "startx = 1887\n",
    "starty = 504\n",
    "#combine_image[ny:ny+h, nx:nx+w] = image6[y:y+h, x:x+w]\n",
    "\n",
    "(endx, endy, w, h) = rects[99]\n",
    "speedx =(endx - startx)/(100-6)\n",
    "speedy =(endy - starty)/(100-6)\n",
    "\n",
    "for i in range(5, 100):\n",
    "    frame = combine_image.copy()\n",
    "    image = cv2.imread(\"test3_origin/\"+str(i)+\".jpg\")\n",
    "    (x, y, w, h) = rects[i]\n",
    "    nx = int(startx + speedx * (i-5))\n",
    "    ny = int(starty + speedy * (i-5))\n",
    "    frame[ny:ny+h, nx:nx+w] = image[y:y+h, x:x+w]\n",
    "    #cv2.imshow(\"frame\", frame)\n",
    "    #cv2.waitKey()\n",
    "    videoWriter.write(frame)\n",
    "\n",
    "videoWriter.release()\n",
    "\n",
    "\n",
    "#combine_image[y:y+h, x:x+w] = image100[y:y+h, x:x+w]\n",
    "\n",
    "\n",
    "\n",
    "\n",
    "#cv2.imshow(\"foreground\", combine_image)\n",
    "#cv2.waitKey()"
   ]
  }
 ],
 "metadata": {
  "kernelspec": {
   "display_name": "Python 3.10.7 64-bit",
   "language": "python",
   "name": "python3"
  },
  "language_info": {
   "codemirror_mode": {
    "name": "ipython",
    "version": 3
   },
   "file_extension": ".py",
   "mimetype": "text/x-python",
   "name": "python",
   "nbconvert_exporter": "python",
   "pygments_lexer": "ipython3",
   "version": "3.10.7"
  },
  "orig_nbformat": 4,
  "vscode": {
   "interpreter": {
    "hash": "b0fa6594d8f4cbf19f97940f81e996739fb7646882a419484c72d19e05852a7e"
   }
  }
 },
 "nbformat": 4,
 "nbformat_minor": 2
}
