{
 "cells": [
  {
   "cell_type": "code",
   "execution_count": 6,
   "metadata": {},
   "outputs": [],
   "source": [
    "import cv2, os\n",
    "\n",
    "fourcc = cv2.VideoWriter_fourcc(*'mp4v')\n",
    "videoWriter = cv2.VideoWriter(\"background_without_foreground.mp4\", fourcc, 30, (1920,1080))\n",
    "path = \"output/\"\n",
    "# read files\n",
    "files = os.listdir(path)\n",
    "N = len(files)\n",
    "for i in range(N):\n",
    "    videoWriter.write(cv2.imread(path+\"/\"+\"frame_\"+str(i+1)+\".jpg\"))\n",
    "videoWriter.release()"
   ]
  },
  {
   "cell_type": "code",
   "execution_count": 40,
   "metadata": {},
   "outputs": [
    {
     "data": {
      "text/plain": [
       "True"
      ]
     },
     "execution_count": 40,
     "metadata": {},
     "output_type": "execute_result"
    }
   ],
   "source": [
    "import cv2\n",
    "import numpy as np\n",
    "\n",
    "imageA = cv2.imread(\"Stitched_Panorama.png\")\n",
    "imageB = cv2.imread(\"result_test3.png\")\n",
    "\n",
    "imageB = cv2.resize(imageB,None,fx=0.5, fy=0.5, interpolation = cv2.INTER_CUBIC)\n",
    "\n",
    "offsetX = 20\n",
    "rightCut = 100\n",
    "offsetY  = 115\n",
    "\n",
    "dst = np.zeros((max(imageA.shape[0], imageB.shape[0])+offsetY, imageA.shape[1]+imageB.shape[1], 3))\n",
    "\n",
    "\n",
    "\n",
    "\n",
    "\n",
    "dst[0:imageA.shape[0],0:imageA.shape[1]] = imageA\n",
    "dst[offsetY:imageB.shape[0]+offsetY, imageA.shape[1]-offsetX:imageA.shape[1]+imageB.shape[1]-offsetX-rightCut] = imageB[0:imageB.shape[0], rightCut:imageB.shape[1]]\n",
    "\n",
    "cv2.imwrite(\"combine.jpg\", dst)\n",
    "\n",
    "\n"
   ]
  }
 ],
 "metadata": {
  "kernelspec": {
   "display_name": "Python 3.10.7 64-bit",
   "language": "python",
   "name": "python3"
  },
  "language_info": {
   "codemirror_mode": {
    "name": "ipython",
    "version": 3
   },
   "file_extension": ".py",
   "mimetype": "text/x-python",
   "name": "python",
   "nbconvert_exporter": "python",
   "pygments_lexer": "ipython3",
   "version": "3.10.7"
  },
  "orig_nbformat": 4,
  "vscode": {
   "interpreter": {
    "hash": "b0fa6594d8f4cbf19f97940f81e996739fb7646882a419484c72d19e05852a7e"
   }
  }
 },
 "nbformat": 4,
 "nbformat_minor": 2
}
