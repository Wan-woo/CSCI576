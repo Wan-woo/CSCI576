{
 "cells": [
  {
   "cell_type": "code",
   "execution_count": 20,
   "metadata": {},
   "outputs": [],
   "source": [
    "import cv2\n",
    " \n",
    "capture = cv2.VideoCapture('video1.mp4')\n",
    " \n",
    "frameNr = 0\n",
    " \n",
    "while (frameNr < 1000):\n",
    " \n",
    "    success, frame = capture.read()\n",
    " \n",
    "    if success and frameNr % 10 == 0:\n",
    "        cv2.imwrite('images/frame_'+str(frameNr)+'.jpg', frame)\n",
    " \n",
    "    frameNr = frameNr+1\n",
    " \n",
    "capture.release()"
   ]
  }
 ],
 "metadata": {
  "kernelspec": {
   "display_name": "Python 3.10.7 64-bit",
   "language": "python",
   "name": "python3"
  },
  "language_info": {
   "codemirror_mode": {
    "name": "ipython",
    "version": 3
   },
   "file_extension": ".py",
   "mimetype": "text/x-python",
   "name": "python",
   "nbconvert_exporter": "python",
   "pygments_lexer": "ipython3",
   "version": "3.10.7"
  },
  "orig_nbformat": 4,
  "vscode": {
   "interpreter": {
    "hash": "b0fa6594d8f4cbf19f97940f81e996739fb7646882a419484c72d19e05852a7e"
   }
  }
 },
 "nbformat": 4,
 "nbformat_minor": 2
}
